{
 "cells": [
  {
   "cell_type": "code",
   "execution_count": 2,
   "metadata": {},
   "outputs": [],
   "source": [
    "import pandas as pd "
   ]
  },
  {
   "cell_type": "code",
   "execution_count": 3,
   "metadata": {},
   "outputs": [],
   "source": [
    "df = pd.read_csv('SeoulBikeData.csv')"
   ]
  },
  {
   "cell_type": "code",
   "execution_count": 4,
   "metadata": {},
   "outputs": [
    {
     "data": {
      "text/plain": [
       "Date                        8317\n",
       "Rented Bike Count           8317\n",
       "Hour                        8317\n",
       "Temperature(C)              8317\n",
       "Humidity(%)                 8317\n",
       "Wind speed (m/s)            8317\n",
       "Visibility (10m)            8317\n",
       "Dew point temperature(C)    8317\n",
       "Solar Radiation (MJ/m2)     8317\n",
       "Rainfall(mm)                8317\n",
       "Snowfall (cm)               8317\n",
       "Seasons                     8317\n",
       "Holiday                     8317\n",
       "Functioning Day             8317\n",
       "dtype: int64"
      ]
     },
     "execution_count": 4,
     "metadata": {},
     "output_type": "execute_result"
    }
   ],
   "source": [
    "df[df[\"Snowfall (cm)\"] == 0.].count()"
   ]
  },
  {
   "cell_type": "code",
   "execution_count": 5,
   "metadata": {},
   "outputs": [
    {
     "name": "stdout",
     "output_type": "stream",
     "text": [
      "Number of datapoints with Winter Season:  2160\n",
      "Number of datapoints with Spring Season:  2208\n",
      "Number of datapoints with Summer Season:  2208\n",
      "Number of datapoints with Autumn Season:  2184\n"
     ]
    }
   ],
   "source": [
    "print(\"Number of datapoints with Winter Season: \", len(df[df[\"Seasons\"] == \"Winter\"]))\n",
    "print(\"Number of datapoints with Spring Season: \", len(df[df[\"Seasons\"] == \"Spring\"]))\n",
    "print(\"Number of datapoints with Summer Season: \", len(df[df[\"Seasons\"] == \"Summer\"]))\n",
    "print(\"Number of datapoints with Autumn Season: \", len(df[df[\"Seasons\"] == \"Autumn\"]))"
   ]
  },
  {
   "cell_type": "code",
   "execution_count": 6,
   "metadata": {},
   "outputs": [
    {
     "name": "stdout",
     "output_type": "stream",
     "text": [
      "Number of columns with non zero Snowfall:  443\n",
      "Number of columns with zero Snowfall:  8317\n"
     ]
    }
   ],
   "source": [
    "print(\"Number of columns with non zero Snowfall: \", len(df)-len(df[df[\"Snowfall (cm)\"] == 0.]))\n",
    "print(\"Number of columns with zero Snowfall: \", len(df[df[\"Snowfall (cm)\"] == 0.]))\n"
   ]
  },
  {
   "cell_type": "code",
   "execution_count": 7,
   "metadata": {},
   "outputs": [],
   "source": [
    "df_winter=df[df[\"Seasons\"] == \"Winter\"]"
   ]
  },
  {
   "cell_type": "code",
   "execution_count": 8,
   "metadata": {},
   "outputs": [
    {
     "name": "stdout",
     "output_type": "stream",
     "text": [
      "Number of datapoints with non zero snowfall in Winter Season:  392\n",
      "Number of datapoints with zero snowfall in Winter Season:  1768\n"
     ]
    }
   ],
   "source": [
    "print(\"Number of datapoints with non zero snowfall in Winter Season: \", len(df_winter[df_winter[\"Snowfall (cm)\"] != 0.]))\n",
    "print(\"Number of datapoints with zero snowfall in Winter Season: \", len(df_winter[df_winter[\"Snowfall (cm)\"] == 0.]))"
   ]
  },
  {
   "cell_type": "code",
   "execution_count": 9,
   "metadata": {},
   "outputs": [
    {
     "name": "stdout",
     "output_type": "stream",
     "text": [
      "Mean of Rented Bike Count for Winter Season with non zero snowfall:  157.30357142857142\n",
      "Mean of Rented Bike Count for Winter Season with zero snowfall:  240.670814479638\n"
     ]
    }
   ],
   "source": [
    "# Calculate mean of Rented Bike Count for Winter Season with non zero snowfall\n",
    "df_nonzero= df_winter[df_winter[\"Snowfall (cm)\"] != 0.]\n",
    "df_zero= df_winter[df_winter[\"Snowfall (cm)\"] == 0.]\n",
    "\n",
    "mean_nonzero = df_nonzero[\"Rented Bike Count\"].mean()\n",
    "mean_zero = df_zero[\"Rented Bike Count\"].mean()\n",
    "\n",
    "print(\"Mean of Rented Bike Count for Winter Season with non zero snowfall: \", mean_nonzero)\n",
    "print(\"Mean of Rented Bike Count for Winter Season with zero snowfall: \", mean_zero)"
   ]
  },
  {
   "cell_type": "code",
   "execution_count": 10,
   "metadata": {},
   "outputs": [
    {
     "name": "stdout",
     "output_type": "stream",
     "text": [
      "Estimate of variance of Rented Bike Count for Winter Season with non zero snowfall:  11934.508631713556\n",
      "Estimate of variance of Rented Bike Count for Winter Season with zero snowfall:  23725.24075496726\n"
     ]
    }
   ],
   "source": [
    "# Calculate Estimate of variance of Rented Bike Count for Winter Season with non zero snowfall\n",
    "var_nonzero = df_nonzero[\"Rented Bike Count\"].var()\n",
    "var_zero = df_zero[\"Rented Bike Count\"].var()\n",
    "\n",
    "print(\"Estimate of variance of Rented Bike Count for Winter Season with non zero snowfall: \", var_nonzero)\n",
    "print(\"Estimate of variance of Rented Bike Count for Winter Season with zero snowfall: \", var_zero)\n"
   ]
  },
  {
   "cell_type": "code",
   "execution_count": 11,
   "metadata": {},
   "outputs": [
    {
     "name": "stdout",
     "output_type": "stream",
     "text": [
      "Mean of Rented Bike Count for Winter Season with non zero snowfall using formula:  157.30357142857142\n",
      "Mean of Rented Bike Count for Winter Season with zero snowfall using formula:  240.670814479638\n"
     ]
    }
   ],
   "source": [
    "# Do previous calculation using formula\n",
    "n_nonzero = len(df_nonzero)\n",
    "n_zero = len(df_zero)\n",
    "\n",
    "mean_nonzero_formula = df_nonzero[\"Rented Bike Count\"].sum()/n_nonzero\n",
    "mean_zero_formula = df_zero[\"Rented Bike Count\"].sum()/n_zero\n",
    "\n",
    "print(\"Mean of Rented Bike Count for Winter Season with non zero snowfall using formula: \", mean_nonzero_formula)\n",
    "print(\"Mean of Rented Bike Count for Winter Season with zero snowfall using formula: \", mean_zero_formula)"
   ]
  },
  {
   "cell_type": "code",
   "execution_count": 12,
   "metadata": {},
   "outputs": [
    {
     "name": "stdout",
     "output_type": "stream",
     "text": [
      "Estimate of variance of Rented Bike Count for Winter Season with non zero snowfall using formula:  11934.508631713556\n",
      "Estimate of variance of Rented Bike Count for Winter Season with zero snowfall using formula:  23725.24075496726\n"
     ]
    }
   ],
   "source": [
    "var_nonzero_formula = (1/(n_nonzero-1))*((df_nonzero[\"Rented Bike Count\"]-mean_nonzero)**2).sum()\n",
    "var_zero_formula = (1/(n_zero-1))*((df_zero[\"Rented Bike Count\"]-mean_zero)**2).sum()\n",
    "\n",
    "print(\"Estimate of variance of Rented Bike Count for Winter Season with non zero snowfall using formula: \", var_nonzero_formula)\n",
    "print(\"Estimate of variance of Rented Bike Count for Winter Season with zero snowfall using formula: \", var_zero_formula)"
   ]
  },
  {
   "cell_type": "code",
   "execution_count": 13,
   "metadata": {},
   "outputs": [
    {
     "name": "stdout",
     "output_type": "stream",
     "text": [
      "Value of t-statistic:  -12.587491780039079\n"
     ]
    }
   ],
   "source": [
    "# Calculate the Value of t-statistic\n",
    "import math\n",
    "t_statistic = (mean_nonzero - mean_zero)/math.sqrt(var_nonzero/n_nonzero + var_zero/n_zero)\n",
    "print(\"Value of t-statistic: \", t_statistic)"
   ]
  },
  {
   "cell_type": "code",
   "execution_count": 14,
   "metadata": {},
   "outputs": [
    {
     "name": "stdout",
     "output_type": "stream",
     "text": [
      "Value of Z_alpha:  1.6448536269514722\n"
     ]
    }
   ],
   "source": [
    "# Print the value of Z_alpha where alpha = 0.05 and Z is standard normal random variable\n",
    "\n",
    "from scipy.stats import norm\n",
    "Z_alpha = norm.ppf(1-0.05)\n",
    "print(\"Value of Z_alpha: \", Z_alpha)\n"
   ]
  },
  {
   "cell_type": "code",
   "execution_count": 15,
   "metadata": {},
   "outputs": [
    {
     "name": "stdout",
     "output_type": "stream",
     "text": [
      "P(Z < -12.58): 1.3601493975098363e-36\n"
     ]
    }
   ],
   "source": [
    "from scipy.stats import norm\n",
    "\n",
    "# Define the value of T\n",
    "T = -12.58  # Example value for alpha\n",
    "\n",
    "# Calculate P(Z < alpha)\n",
    "probability = norm.cdf(T)\n",
    "\n",
    "# Print the result of p-value\n",
    "print(\"P(Z < {}):\".format(T), probability)\n"
   ]
  },
  {
   "cell_type": "markdown",
   "metadata": {},
   "source": [
    "# Results using Library"
   ]
  },
  {
   "cell_type": "code",
   "execution_count": 16,
   "metadata": {},
   "outputs": [
    {
     "name": "stdout",
     "output_type": "stream",
     "text": [
      "Value of t-statistic:  -10.163358641541603\n",
      "p-value:  9.799394129697895e-24\n"
     ]
    }
   ],
   "source": [
    "# Verify the above results using inbuilt python library\n",
    "from scipy.stats import ttest_ind\n",
    "t_statistic, p_value = ttest_ind(df_nonzero[\"Rented Bike Count\"], df_zero[\"Rented Bike Count\"])\n",
    "print(\"Value of t-statistic: \", t_statistic)\n",
    "print(\"p-value: \", p_value)\n"
   ]
  },
  {
   "cell_type": "code",
   "execution_count": 17,
   "metadata": {},
   "outputs": [
    {
     "name": "stdout",
     "output_type": "stream",
     "text": [
      "p-value:  9.799394129697895e-24\n"
     ]
    }
   ],
   "source": [
    "# Print the p-value\n",
    "print(\"p-value: \", p_value)\n"
   ]
  },
  {
   "cell_type": "code",
   "execution_count": 18,
   "metadata": {},
   "outputs": [],
   "source": [
    "# Results are close but same"
   ]
  },
  {
   "cell_type": "code",
   "execution_count": null,
   "metadata": {},
   "outputs": [],
   "source": []
  }
 ],
 "metadata": {
  "kernelspec": {
   "display_name": "Python 3",
   "language": "python",
   "name": "python3"
  },
  "language_info": {
   "codemirror_mode": {
    "name": "ipython",
    "version": 3
   },
   "file_extension": ".py",
   "mimetype": "text/x-python",
   "name": "python",
   "nbconvert_exporter": "python",
   "pygments_lexer": "ipython3",
   "version": "3.10.12"
  }
 },
 "nbformat": 4,
 "nbformat_minor": 2
}
